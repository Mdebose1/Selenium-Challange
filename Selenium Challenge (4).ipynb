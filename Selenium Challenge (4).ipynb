{
 "cells": [
  {
   "cell_type": "markdown",
   "metadata": {},
   "source": [
    "# Selenium Challenge\n",
    "<p>Oh no! You need to scrape and work with some data on a website that you used to frequent. The developers stuck it behind a login screen! How are you going to work with that data now??? Time to throw away beautiful soup and break out selenium.</p>\n",
    "<p>Use selenium to bypass the login screen so that you can automate the process of answering the following 3 questions.</p>\n",
    "<p>Challenge URL: <a href=\"https://modest-jennings-77f32e.netlify.app/\">https://modest-jennings-77f32e.netlify.app/</a></p>\n",
    "<p>Your password: jZ3HF+}g</p>"
   ]
  },
  {
   "cell_type": "markdown",
   "metadata": {},
   "source": [
    "## Question 1\n",
    "<p>Find the player with the most MPG in the league</p>"
   ]
  },
  {
   "cell_type": "code",
   "execution_count": 3,
   "metadata": {},
   "outputs": [
    {
     "name": "stderr",
     "output_type": "stream",
     "text": [
      "C:\\Users\\kiabo\\AppData\\Local\\Temp/ipykernel_28104/2895429429.py:18: DeprecationWarning: find_element_by_tag_name is deprecated. Please use find_element(by=By.TAG_NAME, value=name) instead\n",
      "  search_field = driver.find_element_by_tag_name('input')\n"
     ]
    },
    {
     "name": "stdout",
     "output_type": "stream",
     "text": [
      "<selenium.webdriver.remote.webelement.WebElement (session=\"cf12a6b8ee7544cfabd089b19de7a11f\", element=\"8b54cf75-d43b-4e88-abfe-d19440e2b753\")>\n"
     ]
    },
    {
     "name": "stderr",
     "output_type": "stream",
     "text": [
      "C:\\Users\\kiabo\\AppData\\Local\\Temp/ipykernel_28104/2895429429.py:25: DeprecationWarning: find_element_by_tag_name is deprecated. Please use find_element(by=By.TAG_NAME, value=name) instead\n",
      "  link_to_click = driver.find_element_by_tag_name('button')\n"
     ]
    }
   ],
   "source": [
    "import requests\n",
    "from bs4 import BeautifulSoup\n",
    "from selenium import webdriver\n",
    "from selenium.webdriver.common.keys import Keys\n",
    "from selenium.webdriver.common.by import By\n",
    "from selenium.webdriver.chrome.service import Service\n",
    "from time import sleep\n",
    "\n",
    "response = requests.get('https://modest-jennings-77f32e.netlify.app/login')\n",
    "page = BeautifulSoup(response.content, 'html.parser')\n",
    "s = Service(\"./chromedriver.exe\")\n",
    "driver = webdriver.Chrome(service=s)\n",
    "sleep(4)\n",
    "\n",
    "driver.get('https://modest-jennings-77f32e.netlify.app/login')\n",
    "sleep(4)\n",
    "\n",
    "search_field = driver.find_element_by_tag_name('input')\n",
    "print(search_field)\n",
    "search_term = (\"jZ3HF+}g\")\n",
    "search_field.send_keys(search_term)\n",
    "sleep(4)\n",
    "\n",
    "\n",
    "link_to_click = driver.find_element_by_tag_name('button')\n",
    "link_to_click.click()\n",
    "sleep(4)\n",
    "\n",
    "# page.find('tbody')\n",
    "\n",
    "# tbody = page.find('tr', )\n",
    "\n",
    "player_list = [tr for idx, tr in enumerate(list(tbody.children)) if idx%2 != 0]\n",
    "for idx, td in enumerate(player_list):\n",
    "    oldest_player = list(td.children)\n",
    "    print(oldest_player)\n",
    "\n",
    "class Player:\n",
    "    _list = []\n",
    "    \n",
    "    def __init__(self, name, age):\n",
    "        self.name = name\n",
    "        self.age = age\n",
    "        self._list.append(self)\n",
    "    \n",
    "    def __repr__(self):\n",
    "        return f'<Player: {self.name} {self.age}>'\n",
    "    \n",
    "#     def __str__(self):\n",
    "#         return f'({self.name}) {self.age}'\n",
    "    \n",
    "       \n",
    "    link_to_click = driver.find_elements_by_class_name('')[]\n",
    "    link_to_click.click()\n",
    "    \n",
    "    sleep(4)\n",
    "    \n",
    "    search_field = driver.find_element_by_tag_name()\n",
    "    search_term = player_name\n",
    "    search_field.send_keys(player_name)\n",
    "    \n",
    "    sleep(4)\n",
    "    \n",
    "    # BeautifulSoup4\n",
    "    response = requests.get(driver.current_url)\n",
    "    page = BeautifulSoup(response.content, 'html.parser')\n",
    "    # tbody = [i for i in page.find(class_='row-hover')]\n",
    "    tbody = page.find()\n",
    "    \n",
    "    player_list = [tr for idx, tr in enumerate(list(tbody.children)) if idx%2!=0]\n",
    "    for idx, td in enumerate(player_list):\n",
    "        oldest_player = list(td.children)[2:-1]\n",
    "        player_name = stats_list[0].get_text()\n",
    "        if player_name == search_term:\n",
    "            break\n",
    "            \n",
    "    old_skl = oldest_player\n",
    "    p = Player(\n",
    "        s[0].get_text(),\n",
    "        s[1].get_text(),\n",
    "        s[2].get_text(),\n",
    "        s[3].get_text(),\n",
    "        s[4].get_text(),\n",
    "        s[5].get_text(),\n",
    "        s[9].get_text(),\n",
    "        s[10].get_text(),\n",
    "        s[11].get_text(),\n",
    "        s[12].get_text(),\n",
    "        s[13].get_text(),\n",
    "        s[14].get_text(),\n",
    "        s[17].get_text(),\n",
    "        s[18].get_text(),\n",
    "        s[20].get_text(),\n",
    "        s[22].get_text(),\n",
    "        s[23].get_text(),\n",
    "        s[24].get_text()\n",
    "    )\n",
    "    \n",
    "    driver.close()\n",
    "    \n",
    "    \n",
    "    \n",
    "    return p.__dict__\n",
    "    \n",
    "data = get_player_data()\n",
    "\n",
    "\n",
    "\n",
    "# driver.close()"
   ]
  },
  {
   "cell_type": "markdown",
   "metadata": {},
   "source": [
    "## Question 2\n",
    "<p>Please find the name of the oldest player on each team. Add them to a dictionary with each team's name being a key and the players name being the value.</p>"
   ]
  },
  {
   "cell_type": "markdown",
   "metadata": {},
   "source": []
  },
  {
   "cell_type": "code",
   "execution_count": null,
   "metadata": {},
   "outputs": [],
   "source": [
    "# Ex:\n",
    "oldest_players = {\n",
    "    \"Atl\": \"Lou Williams\",\n",
    "    \"Bos\": \"Tristan Thompson\",\n",
    "    # Etc for all teams\n",
    "}"
   ]
  },
  {
   "cell_type": "code",
   "execution_count": null,
   "metadata": {},
   "outputs": [],
   "source": []
  },
  {
   "cell_type": "markdown",
   "metadata": {},
   "source": [
    "## Question 3\n",
    "<p>Find the player with position F that had the least Games Played (GP) for each team, save as a dictionary. If there are multiple with the same GP, pick one.</p>"
   ]
  },
  {
   "cell_type": "code",
   "execution_count": null,
   "metadata": {},
   "outputs": [],
   "source": [
    "# Ex:\n",
    "least_played = {\n",
    "    \"Atl\": \"Solomon Hill\",\n",
    "    \"Bos\": \"Semi Ojeleye\",\n",
    "    # Etc for all teams\n",
    "}"
   ]
  }
 ],
 "metadata": {
  "kernelspec": {
   "display_name": "Python 3 (ipykernel)",
   "language": "python",
   "name": "python3"
  },
  "language_info": {
   "codemirror_mode": {
    "name": "ipython",
    "version": 3
   },
   "file_extension": ".py",
   "mimetype": "text/x-python",
   "name": "python",
   "nbconvert_exporter": "python",
   "pygments_lexer": "ipython3",
   "version": "3.9.7"
  }
 },
 "nbformat": 4,
 "nbformat_minor": 2
}
